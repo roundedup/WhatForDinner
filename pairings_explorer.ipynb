{
 "cells": [
  {
   "cell_type": "markdown",
   "metadata": {},
   "source": [
    "Upload all the crap"
   ]
  },
  {
   "cell_type": "code",
   "execution_count": 1,
   "metadata": {
    "collapsed": true
   },
   "outputs": [],
   "source": [
    "import numpy as np\n",
    "import pandas as pd\n",
    "import time\n",
    "import os\n",
    "import json\n",
    "\n",
    "import gensim\n",
    "import random\n",
    "import ast\n",
    "\n",
    "\n",
    "import matplotlib.pyplot as plt\n",
    "import pandas as pd\n",
    "from pandas.plotting import table"
   ]
  },
  {
   "cell_type": "code",
   "execution_count": 2,
   "metadata": {
    "collapsed": true
   },
   "outputs": [],
   "source": [
    "dic_oh = np.load('vectors/ingredients_onehot.npy').item()\n",
    "\n",
    "dic_we = np.load('vectors/ingredients_weights.npy').item()\n",
    "\n",
    "dic_w2v = np.load('vectors/ingredients_word_emb.npy').item()"
   ]
  },
  {
   "cell_type": "code",
   "execution_count": 3,
   "metadata": {
    "collapsed": true
   },
   "outputs": [],
   "source": [
    "def onehot_similarity(n1,n2):\n",
    "    v1=np.array(dic_oh[n1])\n",
    "    v2=np.array(dic_oh[n2])\n",
    "    return np.dot(v1,v2)\n",
    "\n",
    "def weight_similarity(n1,n2):\n",
    "    v1=dic_we[n1]\n",
    "    v2=dic_we[n2]\n",
    "    return np.dot(v1,v2)\n",
    "\n",
    "def w2v_similarity(n1,n2):\n",
    "    v1=dic_w2v[n1]\n",
    "    v2=dic_w2v[n2]\n",
    "    return np.dot(v1,v2)"
   ]
  },
  {
   "cell_type": "code",
   "execution_count": 4,
   "metadata": {
    "collapsed": true
   },
   "outputs": [],
   "source": [
    "ingredient_list=sorted(dic_oh.keys())"
   ]
  },
  {
   "cell_type": "code",
   "execution_count": 11,
   "metadata": {
    "collapsed": true
   },
   "outputs": [],
   "source": [
    "def pairing(ingr,topn):\n",
    "    ilist=list(set(ingredient_list)-set([ingr]))\n",
    "    df_oh=pd.DataFrame([[i, onehot_similarity(ingr,i)] for i in ilist],columns=['ingredient','n. molecules'])\n",
    "    df_oh=df_oh.sort_values(['n. molecules'],ascending=0).reset_index(drop=True)\n",
    "    df_we=pd.DataFrame([[i, weight_similarity(ingr,i)] for i in ilist],columns=['ingredient','weighted'])\n",
    "    df_we=df_we.sort_values(['weighted'],ascending=0).reset_index(drop=True)\n",
    "    df_we['weighted']=np.round(df_we['weighted']*100)/100\n",
    "    df_w2v=pd.DataFrame([[i, w2v_similarity(ingr,i)] for i in ilist],columns=['ingredient','w2v'])\n",
    "    df_w2v=df_w2v.sort_values(['w2v'],ascending=0).reset_index(drop=True)\n",
    "    df_w2v['w2v']=np.round(df_w2v['w2v']*100)/100\n",
    "    return pd.concat([df_we, df_oh, df_w2v], axis=1).head(topn).reset_index(drop=True)"
   ]
  },
  {
   "cell_type": "code",
   "execution_count": 12,
   "metadata": {},
   "outputs": [
    {
     "data": {
      "text/html": [
       "<div>\n",
       "<style>\n",
       "    .dataframe thead tr:only-child th {\n",
       "        text-align: right;\n",
       "    }\n",
       "\n",
       "    .dataframe thead th {\n",
       "        text-align: left;\n",
       "    }\n",
       "\n",
       "    .dataframe tbody tr th {\n",
       "        vertical-align: top;\n",
       "    }\n",
       "</style>\n",
       "<table border=\"1\" class=\"dataframe\">\n",
       "  <thead>\n",
       "    <tr style=\"text-align: right;\">\n",
       "      <th></th>\n",
       "      <th>ingredient</th>\n",
       "      <th>weighted</th>\n",
       "      <th>ingredient</th>\n",
       "      <th>n. molecules</th>\n",
       "      <th>ingredient</th>\n",
       "      <th>w2v</th>\n",
       "    </tr>\n",
       "  </thead>\n",
       "  <tbody>\n",
       "    <tr>\n",
       "      <th>0</th>\n",
       "      <td>beetroot</td>\n",
       "      <td>1.00</td>\n",
       "      <td>pepper</td>\n",
       "      <td>106.0</td>\n",
       "      <td>romano cheese</td>\n",
       "      <td>0.47</td>\n",
       "    </tr>\n",
       "    <tr>\n",
       "      <th>1</th>\n",
       "      <td>pistachio</td>\n",
       "      <td>0.99</td>\n",
       "      <td>cucumber</td>\n",
       "      <td>105.0</td>\n",
       "      <td>mozzarella cheese</td>\n",
       "      <td>0.39</td>\n",
       "    </tr>\n",
       "    <tr>\n",
       "      <th>2</th>\n",
       "      <td>chard</td>\n",
       "      <td>0.99</td>\n",
       "      <td>beetroot</td>\n",
       "      <td>105.0</td>\n",
       "      <td>macaroni</td>\n",
       "      <td>0.36</td>\n",
       "    </tr>\n",
       "    <tr>\n",
       "      <th>3</th>\n",
       "      <td>turnip</td>\n",
       "      <td>0.99</td>\n",
       "      <td>lettuce</td>\n",
       "      <td>105.0</td>\n",
       "      <td>artichoke</td>\n",
       "      <td>0.36</td>\n",
       "    </tr>\n",
       "    <tr>\n",
       "      <th>4</th>\n",
       "      <td>cashew nut</td>\n",
       "      <td>0.99</td>\n",
       "      <td>carrot</td>\n",
       "      <td>105.0</td>\n",
       "      <td>chickpea</td>\n",
       "      <td>0.35</td>\n",
       "    </tr>\n",
       "    <tr>\n",
       "      <th>5</th>\n",
       "      <td>japanese pumpkin</td>\n",
       "      <td>0.99</td>\n",
       "      <td>eggplant</td>\n",
       "      <td>105.0</td>\n",
       "      <td>chard</td>\n",
       "      <td>0.35</td>\n",
       "    </tr>\n",
       "    <tr>\n",
       "      <th>6</th>\n",
       "      <td>eggplant</td>\n",
       "      <td>0.99</td>\n",
       "      <td>green beans</td>\n",
       "      <td>105.0</td>\n",
       "      <td>ricotta cheese</td>\n",
       "      <td>0.34</td>\n",
       "    </tr>\n",
       "    <tr>\n",
       "      <th>7</th>\n",
       "      <td>dates</td>\n",
       "      <td>0.99</td>\n",
       "      <td>wheat</td>\n",
       "      <td>105.0</td>\n",
       "      <td>barley</td>\n",
       "      <td>0.33</td>\n",
       "    </tr>\n",
       "    <tr>\n",
       "      <th>8</th>\n",
       "      <td>hazelnut</td>\n",
       "      <td>0.99</td>\n",
       "      <td>broccoli</td>\n",
       "      <td>105.0</td>\n",
       "      <td>olive</td>\n",
       "      <td>0.32</td>\n",
       "    </tr>\n",
       "    <tr>\n",
       "      <th>9</th>\n",
       "      <td>lentils</td>\n",
       "      <td>0.99</td>\n",
       "      <td>peas</td>\n",
       "      <td>105.0</td>\n",
       "      <td>oregano</td>\n",
       "      <td>0.31</td>\n",
       "    </tr>\n",
       "  </tbody>\n",
       "</table>\n",
       "</div>"
      ],
      "text/plain": [
       "         ingredient  weighted   ingredient  n. molecules         ingredient  \\\n",
       "0          beetroot      1.00       pepper         106.0      romano cheese   \n",
       "1         pistachio      0.99     cucumber         105.0  mozzarella cheese   \n",
       "2             chard      0.99     beetroot         105.0           macaroni   \n",
       "3            turnip      0.99      lettuce         105.0          artichoke   \n",
       "4        cashew nut      0.99       carrot         105.0           chickpea   \n",
       "5  japanese pumpkin      0.99     eggplant         105.0              chard   \n",
       "6          eggplant      0.99  green beans         105.0     ricotta cheese   \n",
       "7             dates      0.99        wheat         105.0             barley   \n",
       "8          hazelnut      0.99     broccoli         105.0              olive   \n",
       "9           lentils      0.99         peas         105.0            oregano   \n",
       "\n",
       "    w2v  \n",
       "0  0.47  \n",
       "1  0.39  \n",
       "2  0.36  \n",
       "3  0.36  \n",
       "4  0.35  \n",
       "5  0.35  \n",
       "6  0.34  \n",
       "7  0.33  \n",
       "8  0.32  \n",
       "9  0.31  "
      ]
     },
     "execution_count": 12,
     "metadata": {},
     "output_type": "execute_result"
    }
   ],
   "source": [
    "pairing('zucchini',10)"
   ]
  }
 ],
 "metadata": {
  "kernelspec": {
   "display_name": "Python 2",
   "language": "python",
   "name": "python2"
  },
  "language_info": {
   "codemirror_mode": {
    "name": "ipython",
    "version": 2
   },
   "file_extension": ".py",
   "mimetype": "text/x-python",
   "name": "python",
   "nbconvert_exporter": "python",
   "pygments_lexer": "ipython2",
   "version": "2.7.10"
  }
 },
 "nbformat": 4,
 "nbformat_minor": 2
}
